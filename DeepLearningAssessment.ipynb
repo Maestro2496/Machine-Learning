{
  "nbformat": 4,
  "nbformat_minor": 0,
  "metadata": {
    "colab": {
      "provenance": [],
      "authorship_tag": "ABX9TyOulYI7/ptLbV1+jAZa1C+O",
      "include_colab_link": true
    },
    "kernelspec": {
      "name": "python3",
      "display_name": "Python 3"
    },
    "language_info": {
      "name": "python"
    },
    "widgets": {
      "application/vnd.jupyter.widget-state+json": {
        "3551c10b00a8401385f5327e938871cf": {
          "model_module": "@jupyter-widgets/controls",
          "model_name": "HBoxModel",
          "model_module_version": "1.5.0",
          "state": {
            "_dom_classes": [],
            "_model_module": "@jupyter-widgets/controls",
            "_model_module_version": "1.5.0",
            "_model_name": "HBoxModel",
            "_view_count": null,
            "_view_module": "@jupyter-widgets/controls",
            "_view_module_version": "1.5.0",
            "_view_name": "HBoxView",
            "box_style": "",
            "children": [
              "IPY_MODEL_7b5b459941ed40ed81ab51a148372bb6",
              "IPY_MODEL_212da4a6bc2742e5901273bbebbc9725",
              "IPY_MODEL_35a7f862d24f4c839da49c8c34ad7235"
            ],
            "layout": "IPY_MODEL_10d34ebfb6d2449498a4d4325f01319b"
          }
        },
        "7b5b459941ed40ed81ab51a148372bb6": {
          "model_module": "@jupyter-widgets/controls",
          "model_name": "HTMLModel",
          "model_module_version": "1.5.0",
          "state": {
            "_dom_classes": [],
            "_model_module": "@jupyter-widgets/controls",
            "_model_module_version": "1.5.0",
            "_model_name": "HTMLModel",
            "_view_count": null,
            "_view_module": "@jupyter-widgets/controls",
            "_view_module_version": "1.5.0",
            "_view_name": "HTMLView",
            "description": "",
            "description_tooltip": null,
            "layout": "IPY_MODEL_76c53c936c0840a486674b3b95e29a23",
            "placeholder": "​",
            "style": "IPY_MODEL_172e23c9e2b1479fabc7bfbd0a0dd866",
            "value": "100%"
          }
        },
        "212da4a6bc2742e5901273bbebbc9725": {
          "model_module": "@jupyter-widgets/controls",
          "model_name": "FloatProgressModel",
          "model_module_version": "1.5.0",
          "state": {
            "_dom_classes": [],
            "_model_module": "@jupyter-widgets/controls",
            "_model_module_version": "1.5.0",
            "_model_name": "FloatProgressModel",
            "_view_count": null,
            "_view_module": "@jupyter-widgets/controls",
            "_view_module_version": "1.5.0",
            "_view_name": "ProgressView",
            "bar_style": "success",
            "description": "",
            "description_tooltip": null,
            "layout": "IPY_MODEL_ed2aad60104e46a0a8256a62ba53ca17",
            "max": 10,
            "min": 0,
            "orientation": "horizontal",
            "style": "IPY_MODEL_18701914c8fa4cff8269229ffc44caf7",
            "value": 10
          }
        },
        "35a7f862d24f4c839da49c8c34ad7235": {
          "model_module": "@jupyter-widgets/controls",
          "model_name": "HTMLModel",
          "model_module_version": "1.5.0",
          "state": {
            "_dom_classes": [],
            "_model_module": "@jupyter-widgets/controls",
            "_model_module_version": "1.5.0",
            "_model_name": "HTMLModel",
            "_view_count": null,
            "_view_module": "@jupyter-widgets/controls",
            "_view_module_version": "1.5.0",
            "_view_name": "HTMLView",
            "description": "",
            "description_tooltip": null,
            "layout": "IPY_MODEL_80f32a753a6a4d21a20f3beb4883a245",
            "placeholder": "​",
            "style": "IPY_MODEL_6bf30ae5919b44e6bbddfbe3c9226ccb",
            "value": " 10/10 [00:09&lt;00:00,  1.10it/s]"
          }
        },
        "10d34ebfb6d2449498a4d4325f01319b": {
          "model_module": "@jupyter-widgets/base",
          "model_name": "LayoutModel",
          "model_module_version": "1.2.0",
          "state": {
            "_model_module": "@jupyter-widgets/base",
            "_model_module_version": "1.2.0",
            "_model_name": "LayoutModel",
            "_view_count": null,
            "_view_module": "@jupyter-widgets/base",
            "_view_module_version": "1.2.0",
            "_view_name": "LayoutView",
            "align_content": null,
            "align_items": null,
            "align_self": null,
            "border": null,
            "bottom": null,
            "display": null,
            "flex": null,
            "flex_flow": null,
            "grid_area": null,
            "grid_auto_columns": null,
            "grid_auto_flow": null,
            "grid_auto_rows": null,
            "grid_column": null,
            "grid_gap": null,
            "grid_row": null,
            "grid_template_areas": null,
            "grid_template_columns": null,
            "grid_template_rows": null,
            "height": null,
            "justify_content": null,
            "justify_items": null,
            "left": null,
            "margin": null,
            "max_height": null,
            "max_width": null,
            "min_height": null,
            "min_width": null,
            "object_fit": null,
            "object_position": null,
            "order": null,
            "overflow": null,
            "overflow_x": null,
            "overflow_y": null,
            "padding": null,
            "right": null,
            "top": null,
            "visibility": null,
            "width": null
          }
        },
        "76c53c936c0840a486674b3b95e29a23": {
          "model_module": "@jupyter-widgets/base",
          "model_name": "LayoutModel",
          "model_module_version": "1.2.0",
          "state": {
            "_model_module": "@jupyter-widgets/base",
            "_model_module_version": "1.2.0",
            "_model_name": "LayoutModel",
            "_view_count": null,
            "_view_module": "@jupyter-widgets/base",
            "_view_module_version": "1.2.0",
            "_view_name": "LayoutView",
            "align_content": null,
            "align_items": null,
            "align_self": null,
            "border": null,
            "bottom": null,
            "display": null,
            "flex": null,
            "flex_flow": null,
            "grid_area": null,
            "grid_auto_columns": null,
            "grid_auto_flow": null,
            "grid_auto_rows": null,
            "grid_column": null,
            "grid_gap": null,
            "grid_row": null,
            "grid_template_areas": null,
            "grid_template_columns": null,
            "grid_template_rows": null,
            "height": null,
            "justify_content": null,
            "justify_items": null,
            "left": null,
            "margin": null,
            "max_height": null,
            "max_width": null,
            "min_height": null,
            "min_width": null,
            "object_fit": null,
            "object_position": null,
            "order": null,
            "overflow": null,
            "overflow_x": null,
            "overflow_y": null,
            "padding": null,
            "right": null,
            "top": null,
            "visibility": null,
            "width": null
          }
        },
        "172e23c9e2b1479fabc7bfbd0a0dd866": {
          "model_module": "@jupyter-widgets/controls",
          "model_name": "DescriptionStyleModel",
          "model_module_version": "1.5.0",
          "state": {
            "_model_module": "@jupyter-widgets/controls",
            "_model_module_version": "1.5.0",
            "_model_name": "DescriptionStyleModel",
            "_view_count": null,
            "_view_module": "@jupyter-widgets/base",
            "_view_module_version": "1.2.0",
            "_view_name": "StyleView",
            "description_width": ""
          }
        },
        "ed2aad60104e46a0a8256a62ba53ca17": {
          "model_module": "@jupyter-widgets/base",
          "model_name": "LayoutModel",
          "model_module_version": "1.2.0",
          "state": {
            "_model_module": "@jupyter-widgets/base",
            "_model_module_version": "1.2.0",
            "_model_name": "LayoutModel",
            "_view_count": null,
            "_view_module": "@jupyter-widgets/base",
            "_view_module_version": "1.2.0",
            "_view_name": "LayoutView",
            "align_content": null,
            "align_items": null,
            "align_self": null,
            "border": null,
            "bottom": null,
            "display": null,
            "flex": null,
            "flex_flow": null,
            "grid_area": null,
            "grid_auto_columns": null,
            "grid_auto_flow": null,
            "grid_auto_rows": null,
            "grid_column": null,
            "grid_gap": null,
            "grid_row": null,
            "grid_template_areas": null,
            "grid_template_columns": null,
            "grid_template_rows": null,
            "height": null,
            "justify_content": null,
            "justify_items": null,
            "left": null,
            "margin": null,
            "max_height": null,
            "max_width": null,
            "min_height": null,
            "min_width": null,
            "object_fit": null,
            "object_position": null,
            "order": null,
            "overflow": null,
            "overflow_x": null,
            "overflow_y": null,
            "padding": null,
            "right": null,
            "top": null,
            "visibility": null,
            "width": null
          }
        },
        "18701914c8fa4cff8269229ffc44caf7": {
          "model_module": "@jupyter-widgets/controls",
          "model_name": "ProgressStyleModel",
          "model_module_version": "1.5.0",
          "state": {
            "_model_module": "@jupyter-widgets/controls",
            "_model_module_version": "1.5.0",
            "_model_name": "ProgressStyleModel",
            "_view_count": null,
            "_view_module": "@jupyter-widgets/base",
            "_view_module_version": "1.2.0",
            "_view_name": "StyleView",
            "bar_color": null,
            "description_width": ""
          }
        },
        "80f32a753a6a4d21a20f3beb4883a245": {
          "model_module": "@jupyter-widgets/base",
          "model_name": "LayoutModel",
          "model_module_version": "1.2.0",
          "state": {
            "_model_module": "@jupyter-widgets/base",
            "_model_module_version": "1.2.0",
            "_model_name": "LayoutModel",
            "_view_count": null,
            "_view_module": "@jupyter-widgets/base",
            "_view_module_version": "1.2.0",
            "_view_name": "LayoutView",
            "align_content": null,
            "align_items": null,
            "align_self": null,
            "border": null,
            "bottom": null,
            "display": null,
            "flex": null,
            "flex_flow": null,
            "grid_area": null,
            "grid_auto_columns": null,
            "grid_auto_flow": null,
            "grid_auto_rows": null,
            "grid_column": null,
            "grid_gap": null,
            "grid_row": null,
            "grid_template_areas": null,
            "grid_template_columns": null,
            "grid_template_rows": null,
            "height": null,
            "justify_content": null,
            "justify_items": null,
            "left": null,
            "margin": null,
            "max_height": null,
            "max_width": null,
            "min_height": null,
            "min_width": null,
            "object_fit": null,
            "object_position": null,
            "order": null,
            "overflow": null,
            "overflow_x": null,
            "overflow_y": null,
            "padding": null,
            "right": null,
            "top": null,
            "visibility": null,
            "width": null
          }
        },
        "6bf30ae5919b44e6bbddfbe3c9226ccb": {
          "model_module": "@jupyter-widgets/controls",
          "model_name": "DescriptionStyleModel",
          "model_module_version": "1.5.0",
          "state": {
            "_model_module": "@jupyter-widgets/controls",
            "_model_module_version": "1.5.0",
            "_model_name": "DescriptionStyleModel",
            "_view_count": null,
            "_view_module": "@jupyter-widgets/base",
            "_view_module_version": "1.2.0",
            "_view_name": "StyleView",
            "description_width": ""
          }
        }
      }
    }
  },
  "cells": [
    {
      "cell_type": "markdown",
      "metadata": {
        "id": "view-in-github",
        "colab_type": "text"
      },
      "source": [
        "<a href=\"https://colab.research.google.com/github/Maestro2496/Machine-Learning/blob/main/DeepLearningAssessment.ipynb\" target=\"_parent\"><img src=\"https://colab.research.google.com/assets/colab-badge.svg\" alt=\"Open In Colab\"/></a>"
      ]
    },
    {
      "cell_type": "markdown",
      "source": [
        "## Import packages"
      ],
      "metadata": {
        "id": "le2sIOGe812C"
      }
    },
    {
      "cell_type": "code",
      "source": [
        "!pip install -q opendatasets"
      ],
      "metadata": {
        "id": "XCrZUbJl9knj"
      },
      "execution_count": 1,
      "outputs": []
    },
    {
      "cell_type": "code",
      "source": [
        "# pytorch, os, torchvision, opendatasets\n",
        "# pandas\n",
        "import os\n",
        "import shutil\n",
        "import random\n",
        "import numpy as np\n",
        "import torch\n",
        "import torch.nn as nn\n",
        "from torch.utils.data import DataLoader\n",
        "import opendatasets as od\n",
        "import pandas as pd\n",
        "import torchvision\n",
        "from torchvision import datasets\n",
        "from torchvision.transforms import transforms\n",
        "from torchvision.datasets import ImageFolder\n",
        "from tqdm.auto import tqdm\n",
        "import matplotlib.pyplot as plt\n"
      ],
      "metadata": {
        "id": "aPE8sRqJ8-gJ"
      },
      "execution_count": 66,
      "outputs": []
    },
    {
      "cell_type": "markdown",
      "source": [
        "## Loading Dataset"
      ],
      "metadata": {
        "id": "AdOjte069ZPa"
      }
    },
    {
      "cell_type": "code",
      "source": [
        "od.download('https://www.kaggle.com/datasets/francismon/curated-colon-dataset-for-deep-learning')"
      ],
      "metadata": {
        "colab": {
          "base_uri": "https://localhost:8080/"
        },
        "id": "0M1pKJhr9eva",
        "outputId": "2ecd1b7a-c808-4e80-84b3-0da73c8096e0"
      },
      "execution_count": 3,
      "outputs": [
        {
          "output_type": "stream",
          "name": "stdout",
          "text": [
            "Please provide your Kaggle credentials to download this dataset. Learn more: http://bit.ly/kaggle-creds\n",
            "Your Kaggle username: medetonagossou\n",
            "Your Kaggle Key: ··········\n",
            "Downloading curated-colon-dataset-for-deep-learning.zip to ./curated-colon-dataset-for-deep-learning\n"
          ]
        },
        {
          "output_type": "stream",
          "name": "stderr",
          "text": [
            "100%|██████████| 1.41G/1.41G [00:15<00:00, 98.5MB/s]\n"
          ]
        },
        {
          "output_type": "stream",
          "name": "stdout",
          "text": [
            "\n"
          ]
        }
      ]
    },
    {
      "cell_type": "markdown",
      "source": [
        "### Select random images"
      ],
      "metadata": {
        "id": "9FhlDKe-EiI6"
      }
    },
    {
      "cell_type": "code",
      "source": [
        "def select_random_images(source_folder, num_images, destination_folder):\n",
        "    dataset = ImageFolder(root=source_folder)\n",
        "\n",
        "    images = dataset.imgs\n",
        "    labels = dataset.classes\n",
        "    random.shuffle(images)\n",
        "    selected_images = images[:num_images]\n",
        "\n",
        "    for label in labels:\n",
        "      label_folder = os.path.join(destination_folder, label)\n",
        "      os.makedirs(label_folder, exist_ok=True)\n",
        "\n",
        "    for image_path, label in selected_images:\n",
        "      filename = os.path.basename(image_path)\n",
        "      label_folder = os.path.join(destination_folder, dataset.classes[label])\n",
        "      destination_path = os.path.join(label_folder, filename)\n",
        "      shutil.copyfile(image_path, destination_path)\n"
      ],
      "metadata": {
        "id": "JmSzJpnQEnj2"
      },
      "execution_count": 37,
      "outputs": []
    },
    {
      "cell_type": "code",
      "source": [
        "!rm -r small_data/"
      ],
      "metadata": {
        "id": "xn04-p1sGwMI"
      },
      "execution_count": 38,
      "outputs": []
    },
    {
      "cell_type": "code",
      "source": [
        "select_random_images(\"curated-colon-dataset-for-deep-learning/train\", 20, \"small_data/train\")\n",
        "select_random_images(\"curated-colon-dataset-for-deep-learning/test\", 20, \"small_data/val\")\n",
        "select_random_images(\"curated-colon-dataset-for-deep-learning/test\", 20, \"small_data/test\")"
      ],
      "metadata": {
        "id": "lk6TjWMCGEu8"
      },
      "execution_count": 39,
      "outputs": []
    },
    {
      "cell_type": "markdown",
      "source": [
        "### Image transformer"
      ],
      "metadata": {
        "id": "eFScgTD5_OPK"
      }
    },
    {
      "cell_type": "code",
      "source": [
        "transformer = transforms.Compose([\n",
        "    transforms.Resize((224, 224)),\n",
        "    transforms.ToTensor()\n",
        "])"
      ],
      "metadata": {
        "id": "hi6W4MM1_Tk7"
      },
      "execution_count": 40,
      "outputs": []
    },
    {
      "cell_type": "markdown",
      "source": [
        "## Constructing datasets"
      ],
      "metadata": {
        "id": "mp7Rvciy_-hE"
      }
    },
    {
      "cell_type": "code",
      "source": [
        "test_folder_path = \"small_data\"\n",
        "main_folder_path = \"curated-colon-dataset-for-deep-learning\""
      ],
      "metadata": {
        "id": "3Vm1mguSHF5a"
      },
      "execution_count": 23,
      "outputs": []
    },
    {
      "cell_type": "code",
      "source": [
        "train_dataset = datasets.ImageFolder(f\"{test_folder_path}/train\", transform=transformer)\n",
        "val_dataset = datasets.ImageFolder(f\"{test_folder_path}/val\", transform=transformer)\n",
        "test_dataset = datasets.ImageFolder(f\"{test_folder_path}/test\", transform=transformer)"
      ],
      "metadata": {
        "id": "mL41Wy1_AEVK"
      },
      "execution_count": 49,
      "outputs": []
    },
    {
      "cell_type": "code",
      "source": [
        "train_loader = DataLoader(train_dataset, batch_size=2, shuffle=True, pin_memory=True, num_workers=0)\n",
        "val_loader = DataLoader(val_dataset, batch_size=2, shuffle=True, pin_memory=True, num_workers=0)\n",
        "test_loader = DataLoader(test_dataset, batch_size=2, shuffle=False)"
      ],
      "metadata": {
        "id": "l1QToCAZDCdh"
      },
      "execution_count": 50,
      "outputs": []
    },
    {
      "cell_type": "code",
      "source": [
        "def imshow(inp, title=None):\n",
        "  inp = inp.numpy().transpose((1, 2, 0))\n",
        "  plt.imshow(inp)\n",
        "\n",
        "  if title is not None:\n",
        "    plt.title(title)\n",
        "  plt.pause(0.001)"
      ],
      "metadata": {
        "id": "zveRIkTiOiLa"
      },
      "execution_count": 46,
      "outputs": []
    },
    {
      "cell_type": "code",
      "source": [
        "inputs, classes = next(iter(train_loader))\n",
        "out = torchvision.utils.make_grid(inputs)\n"
      ],
      "metadata": {
        "id": "TBTX7QdLPQ--"
      },
      "execution_count": 58,
      "outputs": []
    },
    {
      "cell_type": "markdown",
      "source": [
        "## Model"
      ],
      "metadata": {
        "id": "vzXWgjugQJEC"
      }
    },
    {
      "cell_type": "code",
      "source": [
        "class MyCNN(nn.Module):\n",
        "    def __init__(self):\n",
        "        super(MyCNN, self).__init__()\n",
        "        # The arguments for commonly used modules:\n",
        "        # torch.nn.Conv2d(in_channels, out_channels, kernel_size, stride, padding)\n",
        "        # torch.nn.MaxPool2d(kernel_size, stride, padding)\n",
        "\n",
        "        # input image size: [3, 224, 224]\n",
        "\n",
        "        self.cnn_layers = nn.Sequential(\n",
        "            nn.Conv2d(3, 64, 3, 1, 1),\n",
        "            nn.ReLU(),\n",
        "            nn.MaxPool2d(2, 2, 0),\n",
        "\n",
        "            nn.Conv2d(64, 128, 3, 1, 1),\n",
        "            nn.ReLU(),\n",
        "            nn.MaxPool2d(2, 2, 0),\n",
        "\n",
        "            nn.Conv2d(128, 256, 3, 1, 1), # TODO: set a convolution layer with out_channels=256, kernel_size=3, stride=1, padding=1\n",
        "            nn.ReLU(),\n",
        "            nn.MaxPool2d(4, 4, 0), # TODO: set a max pooling layer with kernel_size=4, stride=4, padding=0\n",
        "        )\n",
        "\n",
        "        self.fc_layers = nn.Sequential(\n",
        "            nn.Linear(256 * 14 * 14, 256), # TODO: fill in the correct input feature size after flatten. The tensor shape before flatten is (256, 14, 14)\n",
        "            nn.ReLU(),\n",
        "            nn.Linear(256, 256),\n",
        "            nn.ReLU(),\n",
        "            nn.Linear(256, 7)\n",
        "        )\n",
        "\n",
        "    def forward(self, x):\n",
        "        # input (x): [batch_size, 3, 224, 224]\n",
        "        # output: [batch_size, 7]\n",
        "\n",
        "        # Extract features by convolutional layers.\n",
        "        x = self.cnn_layers(x)\n",
        "\n",
        "        # The extracted feature map must be flatten before going to fully-connected layers.\n",
        "        x = x.flatten(1)\n",
        "\n",
        "        # The features are transformed by fully-connected layers to obtain the final logits.\n",
        "        x = self.fc_layers(x)\n",
        "\n",
        "        return x"
      ],
      "metadata": {
        "id": "dIyMm18sQrhV"
      },
      "execution_count": 62,
      "outputs": []
    },
    {
      "cell_type": "code",
      "source": [
        "device = \"cuda\" if torch.cuda.is_available() else \"cpu\"\n",
        "model = MyCNN()\n",
        "\n",
        "model = model.to(device)"
      ],
      "metadata": {
        "id": "Ax0l9RMLRI5B"
      },
      "execution_count": 63,
      "outputs": []
    },
    {
      "cell_type": "markdown",
      "source": [
        "## Loss and Optimizer"
      ],
      "metadata": {
        "id": "NgDCoDb0Q8QL"
      }
    },
    {
      "cell_type": "code",
      "source": [
        "criterion = nn.CrossEntropyLoss()\n",
        "\n",
        "optimizer = torch.optim.Adam(model.parameters(), lr=0.0003)"
      ],
      "metadata": {
        "id": "yZbX049dQ_tA"
      },
      "execution_count": 65,
      "outputs": []
    },
    {
      "cell_type": "markdown",
      "source": [
        "## Train and Validation"
      ],
      "metadata": {
        "id": "gtcMRrOKRmE2"
      }
    },
    {
      "cell_type": "code",
      "source": [
        "n_epochs = 1\n",
        "train_loss_epochs = []\n",
        "train_acc_epochs = []\n",
        "\n",
        "for epoch in range(n_epochs):\n",
        "  ## Training\n",
        "  model.train()\n",
        "  train_loss = []\n",
        "  train_accs = []\n",
        "  for images,labels in tqdm(train_loader):\n",
        "\n",
        "    optimizer.zero_grad()\n",
        "\n",
        "    images = images.to(device)\n",
        "    labels = labels.to(device)\n",
        "\n",
        "    logits = model(images)\n",
        "\n",
        "    loss = criterion(logits, labels)\n",
        "    acc = (logits.argmax(dim=-1) == labels).float().mean()\n",
        "\n",
        "    loss.backward()\n",
        "\n",
        "    optimizer.step()\n",
        "\n",
        "    train_loss.append(loss.item())\n",
        "\n",
        "    train_accs.append(acc.item())\n",
        "\n",
        "  train_loss_epochs.append(sum(train_loss) / len(train_loss))\n",
        "  train_acc_epochs.append(sum(train_accs) / len(train_accs))\n"
      ],
      "metadata": {
        "colab": {
          "base_uri": "https://localhost:8080/",
          "height": 49,
          "referenced_widgets": [
            "3551c10b00a8401385f5327e938871cf",
            "7b5b459941ed40ed81ab51a148372bb6",
            "212da4a6bc2742e5901273bbebbc9725",
            "35a7f862d24f4c839da49c8c34ad7235",
            "10d34ebfb6d2449498a4d4325f01319b",
            "76c53c936c0840a486674b3b95e29a23",
            "172e23c9e2b1479fabc7bfbd0a0dd866",
            "ed2aad60104e46a0a8256a62ba53ca17",
            "18701914c8fa4cff8269229ffc44caf7",
            "80f32a753a6a4d21a20f3beb4883a245",
            "6bf30ae5919b44e6bbddfbe3c9226ccb"
          ]
        },
        "id": "55WIshDCRqv3",
        "outputId": "9457ebc5-9064-4fd1-f434-8414194b0b4e"
      },
      "execution_count": 75,
      "outputs": [
        {
          "output_type": "display_data",
          "data": {
            "text/plain": [
              "  0%|          | 0/10 [00:00<?, ?it/s]"
            ],
            "application/vnd.jupyter.widget-view+json": {
              "version_major": 2,
              "version_minor": 0,
              "model_id": "3551c10b00a8401385f5327e938871cf"
            }
          },
          "metadata": {}
        }
      ]
    }
  ]
}